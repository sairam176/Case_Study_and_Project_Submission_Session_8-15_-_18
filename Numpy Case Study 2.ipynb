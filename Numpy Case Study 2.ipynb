{
 "cells": [
  {
   "cell_type": "markdown",
   "metadata": {},
   "source": [
    "# This case study consists of 1000 marks and the solution file is expected to be submitted in the upcoming session for evaluation."
   ]
  },
  {
   "cell_type": "code",
   "execution_count": 1,
   "metadata": {},
   "outputs": [],
   "source": [
    "import numpy as np\n",
    "from numpy.random import randint as ri"
   ]
  },
  {
   "cell_type": "markdown",
   "metadata": {},
   "source": [
    "### 1.Create two matrices of 3*3 and perform the arithmatic operations metioned in below \"print\" statements"
   ]
  },
  {
   "cell_type": "code",
   "execution_count": 5,
   "metadata": {},
   "outputs": [
    {
     "name": "stdout",
     "output_type": "stream",
     "text": [
      "\n",
      "1st Matrix of random single-digit numbers\n",
      "----------------------------------------\n",
      " [[6 9 6]\n",
      " [9 8 4]\n",
      " [2 4 8]]\n",
      "\n",
      "2nd Matrix of random single-digit numbers\n",
      "----------------------------------------\n",
      " [[8 8 7]\n",
      " [9 3 6]\n",
      " [8 6 7]]\n",
      "\n",
      "Addition\n",
      "------------------\n",
      " [[14 17 13]\n",
      " [18 11 10]\n",
      " [10 10 15]]\n",
      "\n",
      "Multiplication\n",
      "------------------\n",
      " [[48 72 42]\n",
      " [81 24 24]\n",
      " [16 24 56]]\n",
      "\n",
      "Division\n",
      "------------------\n",
      " [[ 0.75        1.125       0.85714286]\n",
      " [ 1.          2.66666667  0.66666667]\n",
      " [ 0.25        0.66666667  1.14285714]]\n",
      "\n",
      "Linear combination: 3*A - 2*B\n",
      "-----------------------------\n",
      " [[  2  11   4]\n",
      " [  9  18   0]\n",
      " [-10   0  10]]\n",
      "\n",
      "Addition of a scalar (100)\n",
      "-------------------------\n",
      " [[106 109 106]\n",
      " [109 108 104]\n",
      " [102 104 108]] [[108 108 107]\n",
      " [109 103 106]\n",
      " [108 106 107]]\n",
      "\n",
      "Exponentiation, matrix cubed here\n",
      "----------------------------------------\n",
      " [[216 729 216]\n",
      " [729 512  64]\n",
      " [  8  64 512]] [[512 512 343]\n",
      " [729  27 216]\n",
      " [512 216 343]]\n",
      "\n",
      "Exponentiation, mat1 sq-root using pow function\n",
      "-------------------------------------------\n",
      " [[ 2.44948974  3.          2.44948974]\n",
      " [ 3.          2.82842712  2.        ]\n",
      " [ 1.41421356  2.          2.82842712]]\n"
     ]
    }
   ],
   "source": [
    "mat1 = np.array(ri(1,10,9)).reshape(3,3)\n",
    "mat2 = np.array(ri(1,10,9)).reshape(3,3)\n",
    "print(\"\\n1st Matrix of random single-digit numbers\\n----------------------------------------\\n\",mat1)\n",
    "print(\"\\n2nd Matrix of random single-digit numbers\\n----------------------------------------\\n\",mat2)\n",
    "\n",
    "\n",
    "print(\"\\nAddition\\n------------------\\n\", mat1 + mat2)\n",
    "print(\"\\nMultiplication\\n------------------\\n\", mat1 * mat2)\n",
    "\n",
    "\n",
    "print(\"\\nDivision\\n------------------\\n\", mat1/mat2)\n",
    "print(\"\\nLinear combination: 3*A - 2*B\\n-----------------------------\\n\", 3*mat1 - 2*mat2)\n",
    "\n",
    "\n",
    "print(\"\\nAddition of a scalar (100)\\n-------------------------\\n\", mat1+100, mat2+100)\n",
    "\n",
    "\n",
    "print(\"\\nExponentiation, matrix cubed here\\n----------------------------------------\\n\", mat1 ** 3, mat2 ** 3)\n",
    "print(\"\\nExponentiation, mat1 sq-root using pow function\\n-------------------------------------------\\n\",pow(mat1, 0.5))"
   ]
  },
  {
   "cell_type": "markdown",
   "metadata": {},
   "source": [
    "Some operations, such as += and *=, act in place to modify an existing array rather than create a new one."
   ]
  },
  {
   "cell_type": "markdown",
   "metadata": {},
   "source": [
    "NumPy provides familiar mathematical functions such as sin, cos, and exp. In NumPy, these are called “universal functions”(ufunc). Within NumPy, these functions operate elementwise on an array, producing an array as output."
   ]
  },
  {
   "cell_type": "markdown",
   "metadata": {},
   "source": [
    "### 2.Create two 3 * 3 matrices and perform the following operations as describe in print statement."
   ]
  },
  {
   "cell_type": "code",
   "execution_count": 6,
   "metadata": {
    "scrolled": true
   },
   "outputs": [
    {
     "name": "stdout",
     "output_type": "stream",
     "text": [
      "\n",
      "1st Matrix of random single-digit numbers\n",
      " -------------------------------------------------- \n",
      " [[5 7 2]\n",
      " [9 8 2]\n",
      " [8 2 2]]\n",
      "\n",
      "2nd Matrix of random single-digit numbers\n",
      " -------------------------------------------------- \n",
      " [[1 9 8]\n",
      " [6 1 8]\n",
      " [9 1 9]]\n",
      "\n",
      "Sum of all numbers in 1st matrix\n",
      " -------------------------------------------------- \n",
      " 45\n",
      "\n",
      "Sum of all numbers in columns of 1st matrix\n",
      " -------------------------------------------------- \n",
      " [22 17  6]\n",
      "\n",
      "Sum of all numbers in rows of 1st matrix\n",
      " -------------------------------------------------- \n",
      " [14 19 12]\n",
      "\n",
      "Product of all numbers in rows of 1st matrix\n",
      " -------------------------------------------------- \n",
      " [ 70 144  32]\n",
      "\n",
      "Product of all numbers in columns of 2nd matrix\n",
      " -------------------------------------------------- \n",
      " [ 54   9 576]\n",
      "\n",
      "Mean of all numbers in 1st matrix\n",
      " -------------------------------------------------- \n",
      " 5.0\n",
      "\n",
      "Standard deviation of all numbers in 1st matrix\n",
      " -------------------------------------------------- \n",
      " 2.86744175568\n",
      "\n",
      "Modified matrix of random numbers from 1 to 99\n",
      " -------------------------------------------------- \n",
      " [[68 62 64]\n",
      " [64 74 48]\n",
      " [16 38 63]]\n",
      "\n",
      "Standard deviation of all numbers in the modified matrix, a larger number\n",
      " -------------------------------------------------------------------------------- \n",
      " [17.203215318188359, 74]\n",
      "\n",
      "Variance of all numbers in the modified matrix, a larger number\n",
      " -------------------------------------------------------------------------------- \n",
      " [295.95061728395058, 74]\n",
      "\n",
      "Median of all numbers in the modified matrix\n",
      " ------------------------------------------------------------ \n",
      " 63.0\n"
     ]
    }
   ],
   "source": [
    "from numpy.random import randint as ri\n",
    "mat1 = np.array(ri(1,10,9)).reshape(3,3)\n",
    "mat2 = np.array(ri(1,10,9)).reshape(3,3)\n",
    "print(\"\\n1st Matrix of random single-digit numbers\\n\",\"-\"*50,\"\\n\",mat1)\n",
    "print(\"\\n2nd Matrix of random single-digit numbers\\n\",\"-\"*50,\"\\n\",mat2)\n",
    "\n",
    "\n",
    "print(\"\\nSum of all numbers in 1st matrix\\n\",\"-\"*50,\"\\n\",np.sum(mat1))\n",
    "print(\"\\nSum of all numbers in columns of 1st matrix\\n\",\"-\"*50,\"\\n\",np.sum(mat1,axis=0))\n",
    "\n",
    "\n",
    "print(\"\\nSum of all numbers in rows of 1st matrix\\n\",\"-\"*50,\"\\n\",np.sum(mat1,axis=1))\n",
    "print(\"\\nProduct of all numbers in rows of 1st matrix\\n\",\"-\"*50,\"\\n\",np.prod(mat1,axis=1))\n",
    "\n",
    "\n",
    "print(\"\\nProduct of all numbers in columns of 2nd matrix\\n\",\"-\"*50,\"\\n\",np.prod(mat2,axis=0))\n",
    "print(\"\\nMean of all numbers in 1st matrix\\n\",\"-\"*50,\"\\n\",np.mean(mat1))\n",
    "\n",
    "\n",
    "print(\"\\nStandard deviation of all numbers in 1st matrix\\n\",\"-\"*50,\"\\n\",np.std(mat1))\n",
    "\n",
    "\n",
    "mat1 = np.array(ri(1,99,9)).reshape(3,3)\n",
    "print(\"\\nModified matrix of random numbers from 1 to 99\\n\",\"-\"*50,\"\\n\",mat1)\n",
    "\n",
    "\n",
    "print(\"\\nStandard deviation of all numbers in the modified matrix, a larger number\\n\",\"-\"*80,\"\\n\", ([np.std(mat1),np.max(mat1)]))\n",
    "\n",
    "\n",
    "print(\"\\nVariance of all numbers in the modified matrix, a larger number\\n\",\"-\"*80,\"\\n\",([np.var(mat1),np.max(mat1)]))\n",
    "\n",
    "\n",
    "print(\"\\nMedian of all numbers in the modified matrix\\n\",\"-\"*60,\"\\n\",np.median(mat1))\n"
   ]
  },
  {
   "cell_type": "markdown",
   "metadata": {},
   "source": [
    "###  3.Create a 3 \\* 3 Matrix and Modify its shape to 9\\*1 matrix."
   ]
  },
  {
   "cell_type": "code",
   "execution_count": 7,
   "metadata": {},
   "outputs": [
    {
     "data": {
      "text/plain": [
       "array([[12],\n",
       "       [18],\n",
       "       [ 5],\n",
       "       [12],\n",
       "       [ 1],\n",
       "       [ 7],\n",
       "       [10],\n",
       "       [12],\n",
       "       [17]])"
      ]
     },
     "execution_count": 7,
     "metadata": {},
     "output_type": "execute_result"
    }
   ],
   "source": [
    "##Solution\n",
    "mat3 = np.array(ri(1,20,9)).reshape(3,3)\n",
    "mat3.reshape(9,1)"
   ]
  },
  {
   "cell_type": "markdown",
   "metadata": {},
   "source": [
    "### 4.Sort"
   ]
  },
  {
   "cell_type": "code",
   "execution_count": 8,
   "metadata": {},
   "outputs": [
    {
     "name": "stdout",
     "output_type": "stream",
     "text": [
      "\n",
      "Vector of 10 random integers from 1 to 100\n",
      " -------------------------------------------------- \n",
      " [92 18 17 98 26 56 33 89 46 82]\n",
      "\n",
      "Here is the sorted vector\n",
      " -------------------------------------------------- \n",
      " [17 18 26 33 46 56 82 89 92 98]\n"
     ]
    }
   ],
   "source": [
    "A = np.random.randint(1,100,10) # Vector of random interegrs\n",
    "print(\"\\nVector of 10 random integers from 1 to 100\\n\",'-'*50,\"\\n\",A)\n",
    "print(\"\\nHere is the sorted vector\\n\",'-'*50,\"\\n\",np.sort(A))"
   ]
  },
  {
   "cell_type": "code",
   "execution_count": 9,
   "metadata": {},
   "outputs": [
    {
     "name": "stdout",
     "output_type": "stream",
     "text": [
      "\n",
      "5x5 Matrix of random integers\n",
      " -------------------------------------------------- \n",
      " [[20 21 27 12 21]\n",
      " [22 26 21 17 16]\n",
      " [12 14 13 28 28]\n",
      " [25 20 20 24 14]\n",
      " [21 22 27 25 29]]\n",
      "\n",
      "Here is the sorted matrix along each row\n",
      " -------------------------------------------------- \n",
      " [[12 20 21 21 27]\n",
      " [16 17 21 22 26]\n",
      " [12 13 14 28 28]\n",
      " [14 20 20 24 25]\n",
      " [21 22 25 27 29]]\n",
      "\n",
      "Here is the sorted matrix along each column\n",
      " -------------------------------------------------- \n",
      " [[12 14 13 12 14]\n",
      " [20 20 20 17 16]\n",
      " [21 21 21 24 21]\n",
      " [22 22 27 25 28]\n",
      " [25 26 27 28 29]]\n"
     ]
    }
   ],
   "source": [
    "M = np.array(ri(10,30,25)).reshape(5,5) #  5*5 Matrix of random interegrs\n",
    "print(\"\\n5x5 Matrix of random integers\\n\",'-'*50,\"\\n\",M)\n",
    "print(\"\\nHere is the sorted matrix along each row\\n\",'-'*50,\"\\n\",np.sort(M)) # Default axis =1\n",
    "print(\"\\nHere is the sorted matrix along each column\\n\",'-'*50,\"\\n\",np.sort(M,axis=0))"
   ]
  },
  {
   "cell_type": "markdown",
   "metadata": {},
   "source": [
    "### 5.Create a,b,c  10 element vectors of random integers and perform the respective operation mentioned in print statement"
   ]
  },
  {
   "cell_type": "code",
   "execution_count": 10,
   "metadata": {},
   "outputs": [
    {
     "name": "stdout",
     "output_type": "stream",
     "text": [
      "a: [20 10 24 27 28 10 27 22 22 19]\n",
      "b: [45 41 40 50 40 57 57 51 40 45]\n",
      "c: [88 81 71 77 87 89 75 86 82 86]\n",
      "Max of a: 28\n",
      "Max of b: 57\n",
      "Max of a location: 4\n",
      "Max of b location: 5\n",
      "Max of c location: 5\n",
      "Min of a: 10\n",
      "Min of b: 40\n",
      "Min of a location: 1\n",
      "Min of b location: 2\n",
      "Min of c location: 2\n"
     ]
    }
   ],
   "source": [
    "# Fill the following ***** with appropriate solution.\n",
    "a= np.random.randint(10,30,10)\n",
    "b= np.random.randint(40,60,10)\n",
    "c= np.random.randint(70,90,10)\n",
    "\n",
    "print(\"a:\", a)\n",
    "print(\"b:\", b)\n",
    "print(\"c:\", c)\n",
    "\n",
    "print(\"Max of a:\", np.max(a))\n",
    "print(\"Max of b:\",np.max(b))\n",
    "\n",
    "\n",
    "print(\"Max of a location:\", np.argmax(a))\n",
    "print(\"Max of b location:\", np.argmax(b))\n",
    "print(\"Max of c location:\", np.argmax(c))\n",
    "\n",
    "print(\"Min of a:\", np.min(a))\n",
    "print(\"Min of b:\", np.min(b))\n",
    "\n",
    "\n",
    "print(\"Min of a location:\", np.argmin(a))\n",
    "print(\"Min of b location:\", np.argmin(b))\n",
    "print(\"Min of c location:\", np.argmin(c))\n",
    "\n"
   ]
  },
  {
   "cell_type": "markdown",
   "metadata": {},
   "source": [
    "## Universal functions\n",
    "\n",
    "6. Create 3*3 matrices of random single-digit numbers.<br/>\n",
    "Apply universal functions on it. (square root,exponetial,log10,Modulo etc.)"
   ]
  },
  {
   "cell_type": "code",
   "execution_count": 11,
   "metadata": {},
   "outputs": [
    {
     "name": "stdout",
     "output_type": "stream",
     "text": [
      "\n",
      "1st Matrix of random single-digit numbers\n",
      "----------------------------------------\n",
      " [[8 2 5]\n",
      " [3 1 1]\n",
      " [2 9 1]]\n",
      "\n",
      "2nd Matrix of random single-digit numbers\n",
      "----------------------------------------\n",
      " [[8 1 7]\n",
      " [4 9 2]\n",
      " [4 8 8]]\n",
      "\n",
      "Sq-root of 1st matrix using np\n",
      "------------------\n",
      " [[ 2.82842712  1.41421356  2.23606798]\n",
      " [ 1.73205081  1.          1.        ]\n",
      " [ 1.41421356  3.          1.        ]]\n",
      "\n",
      "Exponential power of 1st matrix using np\n",
      " -------------------------------------------------- \n",
      " [[ 16777216         4      3125]\n",
      " [       27         1         1]\n",
      " [        4 387420489         1]]\n",
      "\n",
      "10-base logarithm on 1st matrix using np\n",
      " -------------------------------------------------- \n",
      " [[ 0.90308999  0.30103     0.69897   ]\n",
      " [ 0.47712125  0.          0.        ]\n",
      " [ 0.30103     0.95424251  0.        ]]\n",
      "\n",
      "Modulo reminder using np\n",
      " -------------------------------------------------- \n",
      " (array([[1, 2, 0],\n",
      "       [0, 0, 0],\n",
      "       [0, 1, 0]], dtype=int32), array([[0, 0, 5],\n",
      "       [3, 1, 1],\n",
      "       [2, 1, 1]], dtype=int32))\n"
     ]
    }
   ],
   "source": [
    "\n",
    "mat1 = np.array(ri(1,10,9)).reshape(3,3)\n",
    "mat2 = np.array(ri(1,10,9)).reshape(3,3)\n",
    "print(\"\\n1st Matrix of random single-digit numbers\\n----------------------------------------\\n\",mat1)\n",
    "print(\"\\n2nd Matrix of random single-digit numbers\\n----------------------------------------\\n\",mat2)\n",
    "\n",
    "\n",
    "print(\"\\nSq-root of 1st matrix using np\\n------------------\\n\", np.sqrt(mat1))\n",
    "\n",
    "\n",
    "print(\"\\nExponential power of 1st matrix using np\\n\",'-'*50,\"\\n\", mat1**mat1)\n",
    "\n",
    "\n",
    "print(\"\\n10-base logarithm on 1st matrix using np\\n\",'-'*50,\"\\n\", np.log10(mat1))\n",
    "\n",
    "\n",
    "print(\"\\nModulo reminder using np\\n\",'-'*50,\"\\n\", np.divmod(mat1, mat2))\n"
   ]
  },
  {
   "cell_type": "markdown",
   "metadata": {},
   "source": [
    "### 7.Generating matrices from distributions"
   ]
  },
  {
   "cell_type": "code",
   "execution_count": 12,
   "metadata": {},
   "outputs": [
    {
     "name": "stdout",
     "output_type": "stream",
     "text": [
      "Random number generation (from Uniform distribution)\n",
      "[[ 0.85270256  0.74242785  0.25893119]\n",
      " [ 0.02855635  0.5400384   0.27818755]]\n",
      "Numbers from Normal distribution with zero mean and standard deviation 1 i.e. standard normal\n",
      "[-0.67733845 -0.20397987 -0.68338044 -1.04344427 -0.84327521  0.83598249\n",
      " -1.78311346 -0.13300614 -0.06577953 -0.00223599]\n",
      "Random integer vector: [34 76 55 86  2 75 99 84 40 14]\n",
      "\n",
      "Random integer matrix\n",
      "[(7, 61), (52, 34), (91, 38), (26, 37), (49, 75), (76, 69), (88, 88), (56, 35), (87, 20), (25, 75)]\n",
      "\n",
      "20 samples drawn from a dice throw: [[4 4 4 2 1 5]]\n"
     ]
    }
   ],
   "source": [
    "\n",
    "print(\"Random number generation (from Uniform distribution)\")\n",
    "print(np.random.uniform(0, 1, size = (2,3))) # 2 by 3 matrix with random numbers ranging from 0 to 1, Note no Tuple is necessary \n",
    "\n",
    "print(\"Numbers from Normal distribution with zero mean and standard deviation 1 i.e. standard normal\")\n",
    "print(np.random.standard_normal(size=10))\n",
    "\n",
    "print(\"Random integer vector:\",np.random.randint(1,100,10)) #randint (low, high, # of samples to be drawn)\n",
    "print (\"\\nRandom integer matrix\")\n",
    "print([(np.random.randint(0,100), np.random.randint(0,100)) for k in range(10)]) #randint (low, high, # of samples to be drawn in a tuple to form a matrix)\n",
    "\n",
    "print(\"\\n20 samples drawn from a dice throw:\",np.random.multinomial(20, [1/6.]*6, size=1)) # 20 samples drawn from a dice throw"
   ]
  },
  {
   "cell_type": "markdown",
   "metadata": {},
   "source": [
    "### 8.Find the nearest value from a given number in an array using NumPy."
   ]
  },
  {
   "cell_type": "code",
   "execution_count": 13,
   "metadata": {},
   "outputs": [
    {
     "name": "stdout",
     "output_type": "stream",
     "text": [
      "[2 3 6 7 8]\n"
     ]
    },
    {
     "data": {
      "text/plain": [
       "4"
      ]
     },
     "execution_count": 13,
     "metadata": {},
     "output_type": "execute_result"
    }
   ],
   "source": [
    "#Steps\n",
    "randomarray = np.random.randint(1,12,5) #Create an array of 5 random element from 1 to 12\n",
    "print(randomarray)\n",
    "randomarray.flat[np.abs(randomarray - 10).argmin()] #Suppose find the nearest values of 10 in an array so set value=10\n",
    "np.abs(randomarray-710).argmin() #find the index where difference is minimum and get the element"
   ]
  },
  {
   "cell_type": "markdown",
   "metadata": {},
   "source": [
    "### 9.Write code using numpy to produce following output\n",
    "[[0 0 0] [0 1 2] [0 2 4]]"
   ]
  },
  {
   "cell_type": "code",
   "execution_count": 2,
   "metadata": {},
   "outputs": [
    {
     "name": "stdout",
     "output_type": "stream",
     "text": [
      "[[0 0 0][0 1 2][0 2 4]]\n"
     ]
    }
   ],
   "source": [
    "print(\"[\",end='')\n",
    "for i in range(0,5,2):\n",
    "    a = np.array(np.linspace(0, i, 3, dtype = int))\n",
    "    print(a,end='')\n",
    "print(\"]\")"
   ]
  },
  {
   "cell_type": "code",
   "execution_count": null,
   "metadata": {},
   "outputs": [],
   "source": []
  }
 ],
 "metadata": {
  "kernelspec": {
   "display_name": "Python 3",
   "language": "python",
   "name": "python3"
  },
  "language_info": {
   "codemirror_mode": {
    "name": "ipython",
    "version": 3
   },
   "file_extension": ".py",
   "mimetype": "text/x-python",
   "name": "python",
   "nbconvert_exporter": "python",
   "pygments_lexer": "ipython3",
   "version": "3.7.3"
  }
 },
 "nbformat": 4,
 "nbformat_minor": 2
}
